{
 "cells": [
  {
   "cell_type": "markdown",
   "id": "1d36a005",
   "metadata": {},
   "source": [
    "# Scrapping forecast data from a weather forecast website"
   ]
  },
  {
   "cell_type": "code",
   "execution_count": 10,
   "id": "00176f10",
   "metadata": {},
   "outputs": [],
   "source": [
    "from bs4 import BeautifulSoup\n",
    "from urllib.request import urlopen"
   ]
  },
  {
   "cell_type": "code",
   "execution_count": 20,
   "id": "11ba8350",
   "metadata": {},
   "outputs": [
    {
     "name": "stdout",
     "output_type": "stream",
     "text": [
      "<div class=\"tombstone-container\">\n",
      " <p class=\"period-name\">\n",
      "  This\n",
      "  <br/>\n",
      "  Afternoon\n",
      " </p>\n",
      " <p>\n",
      "  <img alt=\"This Afternoon: Mostly sunny, with a high near 56. North northwest wind 7 to 10 mph. \" class=\"forecast-icon\" src=\"newimages/medium/sct.png\" title=\"This Afternoon: Mostly sunny, with a high near 56. North northwest wind 7 to 10 mph. \"/>\n",
      " </p>\n",
      " <p class=\"short-desc\">\n",
      "  Mostly Sunny\n",
      " </p>\n",
      " <p class=\"temp temp-high\">\n",
      "  High: 56 °F\n",
      " </p>\n",
      "</div>\n"
     ]
    }
   ],
   "source": [
    "page = urlopen(\"https://forecast.weather.gov/MapClick.php?lat=37.7772&lon=-122.4168#.Y5uGXOxBxpQ\")\n",
    "soup = BeautifulSoup(page, 'html.parser')\n",
    "seven_day = soup.find(id = 'seven-day-forecast')\n",
    "forecast_items = seven_day.find_all(class_ = 'tombstone-container')\n",
    "first_forecast_item = forecast_items[0]\n",
    "print(first_forecast_item.prettify())"
   ]
  },
  {
   "cell_type": "code",
   "execution_count": 38,
   "id": "f4f59ef3",
   "metadata": {},
   "outputs": [
    {
     "name": "stdout",
     "output_type": "stream",
     "text": [
      "ThisAfternoon\n",
      "Mostly Sunny\n",
      "High: 56 °F\n"
     ]
    }
   ],
   "source": [
    "# Because we are not looping, we use find syntax\n",
    "\n",
    "period = first_forecast_item.find(class_='period-name').get_text()\n",
    "short_desc = first_forecast_item.find(class_ = 'short-desc').get_text()\n",
    "temp = first_forecast_item.find(class_ = 'temp').get_text()\n",
    "\n",
    "print(period)\n",
    "print(short_desc)\n",
    "print(temp)"
   ]
  },
  {
   "cell_type": "code",
   "execution_count": 53,
   "id": "cdeee74a",
   "metadata": {},
   "outputs": [
    {
     "name": "stdout",
     "output_type": "stream",
     "text": [
      "This Afternoon: Mostly sunny, with a high near 56. North northwest wind 7 to 10 mph. \n"
     ]
    }
   ],
   "source": [
    "# Using dictionary to get the title. 'title' will become the key and the body of the text will be the value\n",
    "\n",
    "description = first_forecast_item.find('img')\n",
    "desc = description['title']\n",
    "print(desc)"
   ]
  },
  {
   "cell_type": "markdown",
   "id": "f0ab8627",
   "metadata": {},
   "source": [
    "### Now do it all over using the loop function to account for every forecast item"
   ]
  },
  {
   "cell_type": "code",
   "execution_count": 45,
   "id": "0d43a311",
   "metadata": {},
   "outputs": [
    {
     "data": {
      "text/plain": [
       "['ThisAfternoon',\n",
       " 'Tonight',\n",
       " 'Friday',\n",
       " 'FridayNight',\n",
       " 'Saturday',\n",
       " 'SaturdayNight',\n",
       " 'Sunday',\n",
       " 'SundayNight',\n",
       " 'Monday']"
      ]
     },
     "execution_count": 45,
     "metadata": {},
     "output_type": "execute_result"
    }
   ],
   "source": [
    "# We are looping here, so we use SELECT syntax\n",
    "\n",
    "# We want it as a list, we use the latter command\n",
    "\n",
    "period_tags = seven_day.select('.tombstone-container .period-name')\n",
    "\n",
    "periods = [pt.get_text() for pt in period_tags]\n",
    "periods"
   ]
  },
  {
   "cell_type": "code",
   "execution_count": 49,
   "id": "f005a59a",
   "metadata": {},
   "outputs": [
    {
     "data": {
      "text/plain": [
       "['Mostly Sunny',\n",
       " 'Mostly Clear',\n",
       " 'Sunny',\n",
       " 'Mostly Clear',\n",
       " 'Sunny',\n",
       " 'Mostly Clear',\n",
       " 'Sunny',\n",
       " 'Partly Cloudy',\n",
       " 'Partly Sunny']"
      ]
     },
     "execution_count": 49,
     "metadata": {},
     "output_type": "execute_result"
    }
   ],
   "source": [
    "short_desc_tags = seven_day.select('.tombstone-container .short-desc')\n",
    "\n",
    "short_descriptions = [sd.get_text() for sd in short_desc_tags]\n",
    "short_descriptions"
   ]
  },
  {
   "cell_type": "code",
   "execution_count": 50,
   "id": "54d3d5f2",
   "metadata": {},
   "outputs": [
    {
     "data": {
      "text/plain": [
       "['High: 56 °F',\n",
       " 'Low: 40 °F',\n",
       " 'High: 57 °F',\n",
       " 'Low: 40 °F',\n",
       " 'High: 56 °F',\n",
       " 'Low: 39 °F',\n",
       " 'High: 55 °F',\n",
       " 'Low: 40 °F',\n",
       " 'High: 54 °F']"
      ]
     },
     "execution_count": 50,
     "metadata": {},
     "output_type": "execute_result"
    }
   ],
   "source": [
    "temp_tags = seven_day.select(' .tombstone-container .temp')\n",
    "\n",
    "temps = [tmp.get_text() for tmp in temp_tags]\n",
    "temps"
   ]
  },
  {
   "cell_type": "code",
   "execution_count": 60,
   "id": "722f38c3",
   "metadata": {},
   "outputs": [
    {
     "data": {
      "text/plain": [
       "['This Afternoon: Mostly sunny, with a high near 56. North northwest wind 7 to 10 mph. ',\n",
       " 'Tonight: Mostly clear, with a low around 40. North northeast wind 3 to 8 mph. ',\n",
       " 'Friday: Sunny, with a high near 57. Light east wind becoming northeast 5 to 9 mph in the morning. ',\n",
       " 'Friday Night: Mostly clear, with a low around 40. East wind 6 to 8 mph. ',\n",
       " 'Saturday: Sunny, with a high near 56. Calm wind becoming north 5 to 7 mph in the afternoon. ',\n",
       " 'Saturday Night: Mostly clear, with a low around 39.',\n",
       " 'Sunday: Sunny, with a high near 55.',\n",
       " 'Sunday Night: Partly cloudy, with a low around 40.',\n",
       " 'Monday: Partly sunny, with a high near 54.']"
      ]
     },
     "execution_count": 60,
     "metadata": {},
     "output_type": "execute_result"
    }
   ],
   "source": [
    "# There is no .img because img is not a class but a string in the html\n",
    "\n",
    "desc_tags = seven_day.select('.tombstone-container img')\n",
    "\n",
    "descriptions = [desc['title'] for desc in desc_tags]\n",
    "descriptions"
   ]
  },
  {
   "cell_type": "markdown",
   "id": "803ea8b3",
   "metadata": {},
   "source": [
    "### Combining out data into pandas Dataframe"
   ]
  },
  {
   "cell_type": "code",
   "execution_count": 69,
   "id": "ad39b11f",
   "metadata": {},
   "outputs": [],
   "source": [
    "import pandas as pd"
   ]
  },
  {
   "cell_type": "code",
   "execution_count": 70,
   "id": "7e2baeeb",
   "metadata": {},
   "outputs": [],
   "source": [
    "df = pd.DataFrame({'Description': descriptions, 'Period': periods,'Short Description': short_descriptions, 'Temperature': temps})"
   ]
  },
  {
   "cell_type": "code",
   "execution_count": 71,
   "id": "9c86f796",
   "metadata": {},
   "outputs": [
    {
     "data": {
      "text/html": [
       "<div>\n",
       "<style scoped>\n",
       "    .dataframe tbody tr th:only-of-type {\n",
       "        vertical-align: middle;\n",
       "    }\n",
       "\n",
       "    .dataframe tbody tr th {\n",
       "        vertical-align: top;\n",
       "    }\n",
       "\n",
       "    .dataframe thead th {\n",
       "        text-align: right;\n",
       "    }\n",
       "</style>\n",
       "<table border=\"1\" class=\"dataframe\">\n",
       "  <thead>\n",
       "    <tr style=\"text-align: right;\">\n",
       "      <th></th>\n",
       "      <th>Description</th>\n",
       "      <th>Period</th>\n",
       "      <th>Short Description</th>\n",
       "      <th>Temperature</th>\n",
       "    </tr>\n",
       "  </thead>\n",
       "  <tbody>\n",
       "    <tr>\n",
       "      <th>0</th>\n",
       "      <td>This Afternoon: Mostly sunny, with a high near...</td>\n",
       "      <td>ThisAfternoon</td>\n",
       "      <td>Mostly Sunny</td>\n",
       "      <td>High: 56 °F</td>\n",
       "    </tr>\n",
       "    <tr>\n",
       "      <th>1</th>\n",
       "      <td>Tonight: Mostly clear, with a low around 40. N...</td>\n",
       "      <td>Tonight</td>\n",
       "      <td>Mostly Clear</td>\n",
       "      <td>Low: 40 °F</td>\n",
       "    </tr>\n",
       "    <tr>\n",
       "      <th>2</th>\n",
       "      <td>Friday: Sunny, with a high near 57. Light east...</td>\n",
       "      <td>Friday</td>\n",
       "      <td>Sunny</td>\n",
       "      <td>High: 57 °F</td>\n",
       "    </tr>\n",
       "    <tr>\n",
       "      <th>3</th>\n",
       "      <td>Friday Night: Mostly clear, with a low around ...</td>\n",
       "      <td>FridayNight</td>\n",
       "      <td>Mostly Clear</td>\n",
       "      <td>Low: 40 °F</td>\n",
       "    </tr>\n",
       "    <tr>\n",
       "      <th>4</th>\n",
       "      <td>Saturday: Sunny, with a high near 56. Calm win...</td>\n",
       "      <td>Saturday</td>\n",
       "      <td>Sunny</td>\n",
       "      <td>High: 56 °F</td>\n",
       "    </tr>\n",
       "    <tr>\n",
       "      <th>5</th>\n",
       "      <td>Saturday Night: Mostly clear, with a low aroun...</td>\n",
       "      <td>SaturdayNight</td>\n",
       "      <td>Mostly Clear</td>\n",
       "      <td>Low: 39 °F</td>\n",
       "    </tr>\n",
       "    <tr>\n",
       "      <th>6</th>\n",
       "      <td>Sunday: Sunny, with a high near 55.</td>\n",
       "      <td>Sunday</td>\n",
       "      <td>Sunny</td>\n",
       "      <td>High: 55 °F</td>\n",
       "    </tr>\n",
       "    <tr>\n",
       "      <th>7</th>\n",
       "      <td>Sunday Night: Partly cloudy, with a low around...</td>\n",
       "      <td>SundayNight</td>\n",
       "      <td>Partly Cloudy</td>\n",
       "      <td>Low: 40 °F</td>\n",
       "    </tr>\n",
       "    <tr>\n",
       "      <th>8</th>\n",
       "      <td>Monday: Partly sunny, with a high near 54.</td>\n",
       "      <td>Monday</td>\n",
       "      <td>Partly Sunny</td>\n",
       "      <td>High: 54 °F</td>\n",
       "    </tr>\n",
       "  </tbody>\n",
       "</table>\n",
       "</div>"
      ],
      "text/plain": [
       "                                         Description         Period  \\\n",
       "0  This Afternoon: Mostly sunny, with a high near...  ThisAfternoon   \n",
       "1  Tonight: Mostly clear, with a low around 40. N...        Tonight   \n",
       "2  Friday: Sunny, with a high near 57. Light east...         Friday   \n",
       "3  Friday Night: Mostly clear, with a low around ...    FridayNight   \n",
       "4  Saturday: Sunny, with a high near 56. Calm win...       Saturday   \n",
       "5  Saturday Night: Mostly clear, with a low aroun...  SaturdayNight   \n",
       "6                Sunday: Sunny, with a high near 55.         Sunday   \n",
       "7  Sunday Night: Partly cloudy, with a low around...    SundayNight   \n",
       "8         Monday: Partly sunny, with a high near 54.         Monday   \n",
       "\n",
       "  Short Description  Temperature  \n",
       "0      Mostly Sunny  High: 56 °F  \n",
       "1      Mostly Clear   Low: 40 °F  \n",
       "2             Sunny  High: 57 °F  \n",
       "3      Mostly Clear   Low: 40 °F  \n",
       "4             Sunny  High: 56 °F  \n",
       "5      Mostly Clear   Low: 39 °F  \n",
       "6             Sunny  High: 55 °F  \n",
       "7     Partly Cloudy   Low: 40 °F  \n",
       "8      Partly Sunny  High: 54 °F  "
      ]
     },
     "execution_count": 71,
     "metadata": {},
     "output_type": "execute_result"
    }
   ],
   "source": [
    "df"
   ]
  },
  {
   "cell_type": "code",
   "execution_count": null,
   "id": "4f90aaa1",
   "metadata": {},
   "outputs": [],
   "source": []
  }
 ],
 "metadata": {
  "kernelspec": {
   "display_name": "Python 3 (ipykernel)",
   "language": "python",
   "name": "python3"
  },
  "language_info": {
   "codemirror_mode": {
    "name": "ipython",
    "version": 3
   },
   "file_extension": ".py",
   "mimetype": "text/x-python",
   "name": "python",
   "nbconvert_exporter": "python",
   "pygments_lexer": "ipython3",
   "version": "3.9.7"
  }
 },
 "nbformat": 4,
 "nbformat_minor": 5
}
